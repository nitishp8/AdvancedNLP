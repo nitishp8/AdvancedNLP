{
 "cells": [
  {
   "cell_type": "code",
   "execution_count": 1,
   "metadata": {},
   "outputs": [],
   "source": [
    "import torch\n",
    "import torch.nn as nn\n",
    "import os\n",
    "from sklearn.model_selection import train_test_split\n",
    "import matplotlib.pyplot as plt\n",
    "import cv2\n",
    "import random"
   ]
  },
  {
   "cell_type": "code",
   "execution_count": 2,
   "metadata": {},
   "outputs": [
    {
     "data": {
      "text/plain": [
       "8091"
      ]
     },
     "execution_count": 2,
     "metadata": {},
     "output_type": "execute_result"
    }
   ],
   "source": [
    "image_folder = \"Flicker8k_Dataset\"\n",
    "image_names = os.listdir(image_folder)\n",
    "text_file = \"Flickr8k_text/Flickr8k.token.txt\"\n",
    "len(image_names)"
   ]
  },
  {
   "cell_type": "code",
   "execution_count": 22,
   "metadata": {},
   "outputs": [
    {
     "name": "stdout",
     "output_type": "stream",
     "text": [
      "8092\n"
     ]
    }
   ],
   "source": [
    "image_captions = {}\n",
    "with open(text_file,\"r\") as f:\n",
    "    for line in f:\n",
    "        split_line = line.strip().split(\"#\")\n",
    "        image_name = split_line[0]\n",
    "        caption = split_line[1][2:]\n",
    "        input_caption = list(\"<\" + caption)\n",
    "        output_caption = list(caption + \">\")\n",
    "        if image_name not in image_captions:\n",
    "            image_captions[image_name] = [(input_caption,output_caption)]\n",
    "        else:\n",
    "            captions = image_captions[image_name]\n",
    "            captions.append((input_caption,output_caption))\n",
    "            image_captions[image_name] = captions\n",
    "print(len(image_captions))"
   ]
  },
  {
   "cell_type": "code",
   "execution_count": 23,
   "metadata": {},
   "outputs": [
    {
     "name": "stdout",
     "output_type": "stream",
     "text": [
      "2258277193_586949ec62.jpg.1\n",
      "8091\n"
     ]
    }
   ],
   "source": [
    "key = list(set(image_captions.keys()).difference(set(image_names)))[0]\n",
    "print(key)\n",
    "image_captions.pop(key, None)\n",
    "print(len(image_captions))"
   ]
  },
  {
   "cell_type": "markdown",
   "metadata": {},
   "source": [
    "### Train and Val"
   ]
  },
  {
   "cell_type": "code",
   "execution_count": 24,
   "metadata": {},
   "outputs": [
    {
     "data": {
      "text/plain": [
       "(404, 7687, 404, 7687, 404, 7687)"
      ]
     },
     "execution_count": 24,
     "metadata": {},
     "output_type": "execute_result"
    }
   ],
   "source": [
    "image_names = list(image_captions.keys())\n",
    "input_captions, output_captions = [],[]\n",
    "for el in image_captions.values():\n",
    "    ip_caption,op_caption = [],[]\n",
    "    for caption_pair in el:\n",
    "        ip_caption.append(caption_pair[0])\n",
    "        op_caption.append(caption_pair[1])\n",
    "    input_captions.append(ip_caption)\n",
    "    output_captions.append(op_caption)\n",
    "Xtr_i,Xval_i,Xtr_c,Xval_c,Ytr_c,Yval_c = train_test_split(\n",
    "    image_names,input_captions,output_captions,random_state=0,test_size=0.95\n",
    ")\n",
    "len(Xtr_i),len(Xval_i),len(Xtr_c),len(Xval_c),len(Ytr_c),len(Yval_c)"
   ]
  },
  {
   "cell_type": "code",
   "execution_count": 40,
   "metadata": {},
   "outputs": [],
   "source": [
    "# print(Xtr_c[:2])\n",
    "# print(Ytr_c[:2])"
   ]
  },
  {
   "cell_type": "code",
   "execution_count": 41,
   "metadata": {},
   "outputs": [],
   "source": [
    "class VocabBuilder:\n",
    "    def __init__(self,text_corpus,unknown_token=None,pad_token=None,sos_token=None,eos_token=None,smallcase=True):\n",
    "        '''\n",
    "        text_corpus = [\n",
    "            [['c','a','p','t','i','o','n',' ','1'],['c','a','p','t','i','o','n',' ','2'],..], # for image 1\n",
    "            [['c','a','p','t','i','o','n',' ','1'],['c','a','p','t','i','o','n',' ','2'],..], # for image 2\n",
    "            ...\n",
    "        ]\n",
    "        '''\n",
    "        self.text_corpus = text_corpus\n",
    "        self.unknown_token = unknown_token or \"#\"\n",
    "        self.pad_token = pad_token or \"*\"\n",
    "        self.sos_token = sos_token or \"<\"\n",
    "        self.eos_token = eos_token or \">\"\n",
    "        self.smallcase = smallcase\n",
    "        self.char_to_index, self.index_to_char = self.get_vocabs()\n",
    "        \n",
    "    def get_vocabs(self):\n",
    "        char_to_index = {}\n",
    "        index_count = 0\n",
    "        for two_d_l in self.text_corpus: # two_d_l == 2-D List\n",
    "            for split_caption in two_d_l:\n",
    "                if self.smallcase: split_caption = [char.lower() for char in split_caption]\n",
    "                for char in split_caption:\n",
    "                    if char not in char_to_index:\n",
    "                        char_to_index[char] = index_count\n",
    "                        index_count += 1\n",
    "        char_to_index[self.unknown_token] = index_count\n",
    "        char_to_index[self.pad_token] = index_count + 1\n",
    "        if not self.sos_token in char_to_index: char_to_index[self.sos_token] = index_count + 2\n",
    "        if not self.eos_token in char_to_index: char_to_index[self.eos_token] = index_count + 3\n",
    "        index_to_char = {v:k for k,v in char_to_index.items()}\n",
    "        return char_to_index, index_to_char"
   ]
  },
  {
   "cell_type": "code",
   "execution_count": 42,
   "metadata": {},
   "outputs": [
    {
     "name": "stdout",
     "output_type": "stream",
     "text": [
      "44 44\n",
      "s\n",
      "5\n"
     ]
    }
   ],
   "source": [
    "vocab_builder = VocabBuilder(Ytr_c,smallcase=True)\n",
    "char_to_index, index_to_char = vocab_builder.char_to_index, vocab_builder.index_to_char\n",
    "print(len(char_to_index),len(index_to_char))\n",
    "print(index_to_char[5])\n",
    "print(char_to_index[index_to_char[5]])"
   ]
  },
  {
   "cell_type": "code",
   "execution_count": 43,
   "metadata": {},
   "outputs": [],
   "source": [
    "class EncodeDecode:\n",
    "    def __init__(self,char_to_index,index_to_char,smallcase=True):\n",
    "        self.smallcase = smallcase\n",
    "        self.char_to_index = char_to_index\n",
    "        self.index_to_char = index_to_char\n",
    "    \n",
    "    def get_encoding(self,sentence):\n",
    "        '''\n",
    "        sentence can be a string, or a list of characters\n",
    "        '''\n",
    "        if isinstance(sentence,str): sentence = list(sentence)\n",
    "        if self.smallcase: return [self.char_to_index[char.lower()] for char in sentence]\n",
    "        return [self.char_to_index[char] for char in sentence]\n",
    "    \n",
    "    def get_decoding(self,encoded_sentence):\n",
    "        '''\n",
    "        encoded_sentence must be a list of vocab indices.\n",
    "        Ex: encoded_sentence = [24,21,4,1,..] \n",
    "        '''\n",
    "        sentence = [self.index_to_char[index] for index in encoded_sentence]\n",
    "        return \"\".join(sentence)"
   ]
  },
  {
   "cell_type": "code",
   "execution_count": 44,
   "metadata": {},
   "outputs": [],
   "source": [
    "encode_decode = EncodeDecode(char_to_index,index_to_char)"
   ]
  },
  {
   "cell_type": "code",
   "execution_count": 45,
   "metadata": {},
   "outputs": [
    {
     "name": "stdout",
     "output_type": "stream",
     "text": [
      "0 50 100 150 200 250 300 350 400 404\n"
     ]
    }
   ],
   "source": [
    "tr_images = []\n",
    "for idx,img_name in enumerate(Xtr_i):\n",
    "    im = plt.imread(image_folder+\"/\"+img_name)\n",
    "    resized_img = cv2.resize(im,(200,200),interpolation=cv2.INTER_AREA)\n",
    "    resized_img = torch.tensor([resized_img],dtype=torch.float)\n",
    "    resized_img = resized_img.permute(0,3,1,2)\n",
    "    tr_images.append(resized_img)\n",
    "    if idx % 50 == 0: print(idx,end = ' ')\n",
    "print(len(tr_images))"
   ]
  },
  {
   "cell_type": "code",
   "execution_count": 46,
   "metadata": {},
   "outputs": [],
   "source": [
    "class ImageCaptionGeneratorEncoderModel(nn.Module):\n",
    "    def __init__(self,debug):\n",
    "        super().__init__()\n",
    "        self.debug = debug\n",
    "        self.batchnorm_0 = nn.BatchNorm2d(3)\n",
    "        self.cnn_1 = nn.Conv2d(in_channels=3,out_channels=16,kernel_size=9)\n",
    "        self.batchnorm_1 = nn.BatchNorm2d(16)\n",
    "        self.cnn_2 = nn.Conv2d(in_channels=16,out_channels=32,kernel_size=5)\n",
    "        self.batchnorm_2 = nn.BatchNorm2d(32)\n",
    "        self.cnn_3 = nn.Conv2d(in_channels=32,out_channels=64,kernel_size=3)\n",
    "        self.batchnorm_3 = nn.BatchNorm2d(64)\n",
    "        self.cnn_4 = nn.Conv2d(in_channels=64,out_channels=128,kernel_size=3)\n",
    "        self.batchnorm_4 = nn.BatchNorm2d(128)\n",
    "        self.cnn_5 = nn.Conv2d(in_channels=128,out_channels=256,kernel_size=3)\n",
    "        self.batchnorm_5 = nn.BatchNorm2d(256)\n",
    "        self.cnn_6 = nn.Conv2d(in_channels=256,out_channels=512,kernel_size=3)\n",
    "        self.batchnorm_6 = nn.BatchNorm2d(512)\n",
    "        self.selu = nn.SELU()\n",
    "        self.maxpool = nn.MaxPool2d(kernel_size=2)\n",
    "        self.flatten = nn.Flatten()\n",
    "        \n",
    "    def forward(self,image):\n",
    "        image = self.batchnorm_0(image)\n",
    "        if self.debug: print(\"Before starting, Image Shape:\",image.shape)\n",
    "        \n",
    "        image = self.cnn_1(image)\n",
    "        image = self.selu(image)\n",
    "        image = self.batchnorm_1(image)\n",
    "        if self.debug: print(\"1st conv, Image Shape:\",image.shape)\n",
    "        image = self.maxpool(image)\n",
    "        if self.debug: print(\"1st pool, Image Shape:\",image.shape)\n",
    "        \n",
    "        image = self.cnn_2(image)\n",
    "        image = self.selu(image)\n",
    "        image = self.batchnorm_2(image)\n",
    "        if self.debug: print(\"2nd conv, Image Shape:\",image.shape)\n",
    "        image = self.maxpool(image)\n",
    "        if self.debug: print(\"2nd pool, Image Shape:\",image.shape)\n",
    "        \n",
    "        image = self.cnn_3(image)\n",
    "        image = self.selu(image)\n",
    "        image = self.batchnorm_3(image)\n",
    "        if self.debug: print(\"3rd conv, Image Shape:\",image.shape)\n",
    "        image = self.maxpool(image)\n",
    "        if self.debug: print(\"3rd pool, Image Shape:\",image.shape)\n",
    "        \n",
    "        image = self.cnn_4(image)\n",
    "        image = self.selu(image)\n",
    "        image = self.batchnorm_4(image)\n",
    "        if self.debug: print(\"4th conv, Image Shape:\",image.shape)\n",
    "        image = self.maxpool(image)\n",
    "        if self.debug: print(\"4th pool, Image Shape:\",image.shape)\n",
    "        \n",
    "        image = self.cnn_5(image)\n",
    "        image = self.selu(image)\n",
    "        image = self.batchnorm_5(image)\n",
    "        if self.debug: print(\"5th conv, Image Shape:\",image.shape)\n",
    "        image = self.maxpool(image)\n",
    "        if self.debug: print(\"5th pool, Image Shape:\",image.shape)\n",
    "        \n",
    "        image = self.cnn_6(image)\n",
    "        image = self.selu(image)\n",
    "        image = self.batchnorm_6(image)\n",
    "        if self.debug: print(\"6th conv, Image Shape:\",image.shape)\n",
    "        image = self.maxpool(image)\n",
    "        if self.debug: print(\"6th pool, Image Shape:\",image.shape)\n",
    "            \n",
    "        image = self.flatten(image)\n",
    "        if self.debug: print(\"Flattened, Image Shape:\",image.shape)\n",
    "        \n",
    "        return image\n",
    "\n",
    "class ImageCaptionGeneratorDecoderModel(nn.Module):\n",
    "    def __init__(self,batch_size,vocab_size,embedding_dim,num_lstm_layers,make_bidirectional,debug):\n",
    "        super().__init__()\n",
    "        self.debug = debug\n",
    "        self.bidirectional = make_bidirectional\n",
    "        self.num_lstm_layers = num_lstm_layers\n",
    "        self.batch_size = batch_size\n",
    "        self.embedding = nn.Embedding(vocab_size,embedding_dim)\n",
    "        self.relu = nn.ReLU()\n",
    "        self.gru = nn.GRU(input_size=embedding_dim,hidden_size=512,\n",
    "                            num_layers=num_lstm_layers,bidirectional=make_bidirectional,batch_first=True)\n",
    "        self.in_features = 512*2 if make_bidirectional else 512\n",
    "        self.linear = nn.Linear(in_features=self.in_features, out_features=vocab_size)\n",
    "        self.log_softmax = nn.LogSoftmax(dim=1)\n",
    "    \n",
    "    def forward(self,caption,prev_state,is_prev_state_image_encoding=False):\n",
    "        if self.debug: print(\"Before starting: Caption Shape:\",caption.shape,\"Prev State Shape\",prev_state.shape)\n",
    "        \n",
    "        if is_prev_state_image_encoding:\n",
    "            # For sending in GRU layer\n",
    "            first_param = self.num_lstm_layers\n",
    "            if self.bidirectional: first_param = 2*self.num_lstm_layers\n",
    "            # if encoded_image.shape is (5,512) [5 is batch_size] & first_param = 4, => (4,5,512)\n",
    "            prev_state = prev_state.repeat(first_param,1,1)\n",
    "            if self.debug: print(\"Image shape for GRU (as ht)\",prev_state.shape)\n",
    "        \n",
    "        caption = self.embedding(caption)\n",
    "#         caption = self.relu(caption)\n",
    "        if self.debug: print(\"Embedding, Caption Shape:\",caption.shape)\n",
    "        \n",
    "        caption,ht = self.gru(caption,prev_state)\n",
    "        if self.debug: print(\"GRU, Caption Shape:\",caption.shape,\"ht shape\",ht.shape)\n",
    "            \n",
    "        # Resizing caption for Linear Layer\n",
    "        caption = caption.reshape(-1,caption.shape[2])\n",
    "        if self.debug: print(\"Reshaping Caption Shape:\",caption.shape)\n",
    "        \n",
    "        caption = self.linear(caption)\n",
    "        if self.debug: print(\"Linear Caption Shape:\",caption.shape)\n",
    "        \n",
    "        op = self.log_softmax(caption)\n",
    "        if self.debug: print(\"log_softmax op Shape:\",op.shape)\n",
    "        \n",
    "        return op,ht\n",
    "        "
   ]
  },
  {
   "cell_type": "code",
   "execution_count": 48,
   "metadata": {},
   "outputs": [],
   "source": [
    "vocab_size = len(char_to_index)\n",
    "embedding_dim = 60\n",
    "num_lstm_layers = 1\n",
    "make_bidirectional = False\n",
    "batch_size = 1\n",
    "device = torch.device(\"cuda:0\")"
   ]
  },
  {
   "cell_type": "code",
   "execution_count": 49,
   "metadata": {},
   "outputs": [],
   "source": [
    "class BatchGenerator:\n",
    "    def __init__(self,Xi,Xc,Yc,batch_size):\n",
    "        self.Xi = Xi\n",
    "        self.Xc = Xc\n",
    "        self.Yc = Yc\n",
    "        self.batch_size = batch_size\n",
    "        \n",
    "    def get_batch(self,batch_index):\n",
    "        Xi_b = self.Xi[batch_index*self.batch_size : (batch_index+1)*self.batch_size]\n",
    "        Xc_b = self.Xc[batch_index*self.batch_size : (batch_index+1)*self.batch_size]\n",
    "        Yc_b = self.Yc[batch_index*self.batch_size : (batch_index+1)*self.batch_size]\n",
    "        return Xi_b, Xc_b, Yc_b"
   ]
  },
  {
   "cell_type": "code",
   "execution_count": 50,
   "metadata": {},
   "outputs": [],
   "source": [
    "model_encoder = ImageCaptionGeneratorEncoderModel(debug=True).to(device)\n",
    "model_decoder = ImageCaptionGeneratorDecoderModel(\n",
    "    batch_size,vocab_size,embedding_dim,num_lstm_layers,make_bidirectional,debug=True\n",
    ").to(device)\n",
    "loss_fn = nn.NLLLoss()"
   ]
  },
  {
   "cell_type": "code",
   "execution_count": 51,
   "metadata": {},
   "outputs": [
    {
     "name": "stdout",
     "output_type": "stream",
     "text": [
      "torch.Size([1, 3, 200, 200]) 3 ['<', 'T', 'w', 'o', ' ', 'd', 'o', 'g', 's', ' ', 'a', 'r', 'e', ' ', 's', 'i', 't', 't', 'i', 'n', 'g', ' ', 't', 'o', 'g', 'e', 't', 'h', 'e', 'r', ' ', 'i', 'n', ' ', 'a', ' ', 'w', 'h', 'e', 'a', 't', ' ', 'f', 'i', 'e', 'l', 'd', ' ', '.'] ['T', 'w', 'o', ' ', 'd', 'o', 'g', 's', ' ', 'a', 'r', 'e', ' ', 's', 'i', 't', 't', 'i', 'n', 'g', ' ', 't', 'o', 'g', 'e', 't', 'h', 'e', 'r', ' ', 'i', 'n', ' ', 'a', ' ', 'w', 'h', 'e', 'a', 't', ' ', 'f', 'i', 'e', 'l', 'd', ' ', '.', '>']\n",
      "[43, 9, 21, 10, 1, 13, 10, 16, 5, 1, 0, 12, 7, 1, 5, 4, 9, 9, 4, 3, 16, 1, 9, 10, 16, 7, 9, 23, 7, 12, 1, 4, 3, 1, 0, 1, 21, 23, 7, 0, 9, 1, 15, 4, 7, 8, 13, 1, 19] [9, 21, 10, 1, 13, 10, 16, 5, 1, 0, 12, 7, 1, 5, 4, 9, 9, 4, 3, 16, 1, 9, 10, 16, 7, 9, 23, 7, 12, 1, 4, 3, 1, 0, 1, 21, 23, 7, 0, 9, 1, 15, 4, 7, 8, 13, 1, 19, 20]\n",
      "<two dogs are sitting together in a wheat field .\n",
      "two dogs are sitting together in a wheat field .>\n",
      "tensor([[43,  9, 21, 10,  1, 13, 10, 16,  5,  1,  0, 12,  7,  1,  5,  4,  9,  9,\n",
      "          4,  3, 16,  1,  9, 10, 16,  7,  9, 23,  7, 12,  1,  4,  3,  1,  0,  1,\n",
      "         21, 23,  7,  0,  9,  1, 15,  4,  7,  8, 13,  1, 19]], device='cuda:0') tensor([[ 9, 21, 10,  1, 13, 10, 16,  5,  1,  0, 12,  7,  1,  5,  4,  9,  9,  4,\n",
      "          3, 16,  1,  9, 10, 16,  7,  9, 23,  7, 12,  1,  4,  3,  1,  0,  1, 21,\n",
      "         23,  7,  0,  9,  1, 15,  4,  7,  8, 13,  1, 19, 20]], device='cuda:0')\n",
      "torch.Size([1, 49]) torch.Size([1, 49])\n"
     ]
    }
   ],
   "source": [
    "im = tr_images[1].to(device)\n",
    "c_i = random.randint(0,4)\n",
    "ip_c = Xtr_c[1][c_i]\n",
    "op_c = Ytr_c[1][c_i]\n",
    "print(im.shape,c_i,ip_c,op_c)\n",
    "ip_c = encode_decode.get_encoding(ip_c)\n",
    "op_c = encode_decode.get_encoding(op_c)\n",
    "print(ip_c,op_c)\n",
    "for el in ip_c: print(index_to_char[el],end='')\n",
    "print()\n",
    "for el in op_c: print(index_to_char[el],end='')\n",
    "print()\n",
    "ip_c = torch.tensor([ip_c]).to(device)\n",
    "op_c = torch.tensor([op_c]).to(device)\n",
    "print(ip_c,op_c)\n",
    "print(ip_c.shape,op_c.shape)"
   ]
  },
  {
   "cell_type": "code",
   "execution_count": 52,
   "metadata": {},
   "outputs": [
    {
     "name": "stdout",
     "output_type": "stream",
     "text": [
      "Before starting, Image Shape: torch.Size([1, 3, 200, 200])\n",
      "1st conv, Image Shape: torch.Size([1, 16, 192, 192])\n",
      "1st pool, Image Shape: torch.Size([1, 16, 96, 96])\n",
      "2nd conv, Image Shape: torch.Size([1, 32, 92, 92])\n",
      "2nd pool, Image Shape: torch.Size([1, 32, 46, 46])\n",
      "3rd conv, Image Shape: torch.Size([1, 64, 44, 44])\n",
      "3rd pool, Image Shape: torch.Size([1, 64, 22, 22])\n",
      "4th conv, Image Shape: torch.Size([1, 128, 20, 20])\n",
      "4th pool, Image Shape: torch.Size([1, 128, 10, 10])\n",
      "5th conv, Image Shape: torch.Size([1, 256, 8, 8])\n",
      "5th pool, Image Shape: torch.Size([1, 256, 4, 4])\n",
      "6th conv, Image Shape: torch.Size([1, 512, 2, 2])\n",
      "6th pool, Image Shape: torch.Size([1, 512, 1, 1])\n",
      "Flattened, Image Shape: torch.Size([1, 512])\n",
      "Before starting: Caption Shape: torch.Size([1, 49]) Prev State Shape torch.Size([1, 512])\n",
      "Image shape for GRU (as ht) torch.Size([1, 1, 512])\n",
      "Embedding, Caption Shape: torch.Size([1, 49, 60])\n",
      "GRU, Caption Shape: torch.Size([1, 49, 512]) ht shape torch.Size([1, 1, 512])\n",
      "Reshaping Caption Shape: torch.Size([49, 512])\n",
      "Linear Caption Shape: torch.Size([49, 44])\n",
      "log_softmax op Shape: torch.Size([49, 44])\n",
      "For loss torch.Size([49])\n",
      "3.795029401779175\n"
     ]
    }
   ],
   "source": [
    "image = model_encoder(im)\n",
    "op,ht = model_decoder(ip_c,image,is_prev_state_image_encoding=True)\n",
    "loss_fn = nn.NLLLoss()\n",
    "print(\"For loss\",op_c.reshape(-1).shape)\n",
    "print(loss_fn(op,op_c.reshape(-1)).item())"
   ]
  },
  {
   "cell_type": "code",
   "execution_count": 53,
   "metadata": {},
   "outputs": [
    {
     "name": "stdout",
     "output_type": "stream",
     "text": [
      "torch.Size([1, 3, 200, 200]) [['<', 'A', ' ', 'c', 'h', 'i', 'l', 'd', ' ', 'i', 'n', ' ', 'g', 'r', 'e', 'e', 'n', ' ', 's', 'h', 'o', 'e', 's', ' ', 's', 't', 'a', 'r', 'i', 'n', 'g', ' ', 'd', 'o', 'w', 'n', ' ', 'a', ' ', 'd', 'r', 'a', 'i', 'n', ' ', '.'], ['<', 'A', ' ', 'y', 'o', 'u', 'n', 'g', ' ', 'c', 'h', 'i', 'l', 'd', ' ', 'i', 'n', ' ', 'a', ' ', 'g', 'r', 'e', 'e', 'n', ' ', 's', 'h', 'i', 'r', 't', ' ', 'a', 'n', 'd', ' ', 'c', 'r', 'o', 'c', 'k', 's', ' ', 'l', 'o', 'o', 'k', 'i', 'n', 'g', ' ', 'd', 'o', 'w', 'n', ' ', 'a', ' ', 'd', 'r', 'a', 'i', 'n'], ['<', 'B', 'l', 'o', 'n', 'd', ' ', 'g', 'i', 'r', 'l', ' ', 'l', 'o', 'o', 'k', 'i', 'n', 'g', ' ', 'd', 'o', 'w', 'n', ' ', 't', 'h', 'e', ' ', 'g', 'r', 'a', 't', 'i', 'n', 'g', ' ', 'o', 'n', ' ', 't', 'h', 'e', ' ', 'r', 'o', 'a', 'd', ' ', '.'], ['<', 'T', 'h', 'e', ' ', 'l', 'i', 't', 't', 'l', 'e', ' ', 'g', 'i', 'r', 'l', ' ', 'i', 'n', ' ', 'g', 'r', 'e', 'e', 'n', ' ', 'b', 'e', 'n', 'd', 's', ' ', 'd', 'o', 'w', 'n', ' ', 't', 'h', 'e', ' ', 'c', 'h', 'e', 'c', 'k', ' ', 'o', 'u', 't', ' ', 't', 'h', 'e', ' ', 'd', 'r', 'a', 'i', 'n', 'p', 'i', 'p', 'e', ' ', '.'], ['<', 'T', 'h', 'e', ' ', 's', 'm', 'a', 'l', 'l', ' ', 'c', 'h', 'i', 'l', 'd', ' ', 'i', 'n', ' ', 'g', 'r', 'e', 'e', 'n', ' ', 'c', 'r', 'o', 'c', 'k', 's', ' ', 'l', 'e', 'a', 'n', 's', ' ', 'o', 'v', 'e', 'r', ' ', 't', 'o', ' ', 'l', 'o', 'o', 'k', ' ', 'i', 'n', 's', 'i', 'd', 'e', ' ', 'a', ' ', 'g', 'r', 'a', 't', 'e', ' ', '.']] [['A', ' ', 'c', 'h', 'i', 'l', 'd', ' ', 'i', 'n', ' ', 'g', 'r', 'e', 'e', 'n', ' ', 's', 'h', 'o', 'e', 's', ' ', 's', 't', 'a', 'r', 'i', 'n', 'g', ' ', 'd', 'o', 'w', 'n', ' ', 'a', ' ', 'd', 'r', 'a', 'i', 'n', ' ', '.', '>'], ['A', ' ', 'y', 'o', 'u', 'n', 'g', ' ', 'c', 'h', 'i', 'l', 'd', ' ', 'i', 'n', ' ', 'a', ' ', 'g', 'r', 'e', 'e', 'n', ' ', 's', 'h', 'i', 'r', 't', ' ', 'a', 'n', 'd', ' ', 'c', 'r', 'o', 'c', 'k', 's', ' ', 'l', 'o', 'o', 'k', 'i', 'n', 'g', ' ', 'd', 'o', 'w', 'n', ' ', 'a', ' ', 'd', 'r', 'a', 'i', 'n', '>'], ['B', 'l', 'o', 'n', 'd', ' ', 'g', 'i', 'r', 'l', ' ', 'l', 'o', 'o', 'k', 'i', 'n', 'g', ' ', 'd', 'o', 'w', 'n', ' ', 't', 'h', 'e', ' ', 'g', 'r', 'a', 't', 'i', 'n', 'g', ' ', 'o', 'n', ' ', 't', 'h', 'e', ' ', 'r', 'o', 'a', 'd', ' ', '.', '>'], ['T', 'h', 'e', ' ', 'l', 'i', 't', 't', 'l', 'e', ' ', 'g', 'i', 'r', 'l', ' ', 'i', 'n', ' ', 'g', 'r', 'e', 'e', 'n', ' ', 'b', 'e', 'n', 'd', 's', ' ', 'd', 'o', 'w', 'n', ' ', 't', 'h', 'e', ' ', 'c', 'h', 'e', 'c', 'k', ' ', 'o', 'u', 't', ' ', 't', 'h', 'e', ' ', 'd', 'r', 'a', 'i', 'n', 'p', 'i', 'p', 'e', ' ', '.', '>'], ['T', 'h', 'e', ' ', 's', 'm', 'a', 'l', 'l', ' ', 'c', 'h', 'i', 'l', 'd', ' ', 'i', 'n', ' ', 'g', 'r', 'e', 'e', 'n', ' ', 'c', 'r', 'o', 'c', 'k', 's', ' ', 'l', 'e', 'a', 'n', 's', ' ', 'o', 'v', 'e', 'r', ' ', 't', 'o', ' ', 'l', 'o', 'o', 'k', ' ', 'i', 'n', 's', 'i', 'd', 'e', ' ', 'a', ' ', 'g', 'r', 'a', 't', 'e', ' ', '.', '>']]\n"
     ]
    },
    {
     "data": {
      "image/png": "[encoded data removed]",
      "text/plain": [
       "<Figure size 432x288 with 1 Axes>"
      ]
     },
     "metadata": {
      "needs_background": "light"
     },
     "output_type": "display_data"
    }
   ],
   "source": [
    "a = tr_images[12].to(device)\n",
    "plt.imshow(a[-1].permute(1,2,0).cpu().numpy().astype('int32'))\n",
    "print(a.shape,Xtr_c[12],Ytr_c[12])"
   ]
  },
  {
   "cell_type": "code",
   "execution_count": 84,
   "metadata": {},
   "outputs": [],
   "source": [
    "model_encoder = ImageCaptionGeneratorEncoderModel(debug=False).to(device)\n",
    "model_decoder = ImageCaptionGeneratorDecoderModel(\n",
    "    batch_size,vocab_size,embedding_dim,num_lstm_layers,make_bidirectional,debug=False\n",
    ").to(device)\n",
    "epochs = 20\n",
    "loss_fn = nn.NLLLoss()\n",
    "# optimizer = torch.optim.Adam(model.parameters(),lr=0.001)"
   ]
  },
  {
   "cell_type": "code",
   "execution_count": 85,
   "metadata": {},
   "outputs": [],
   "source": [
    "optimizer_encoder = torch.optim.SGD(model_encoder.parameters(),lr=0.05)\n",
    "optimizer_decoder = torch.optim.SGD(model_decoder.parameters(),lr=0.05)"
   ]
  },
  {
   "cell_type": "code",
   "execution_count": 86,
   "metadata": {},
   "outputs": [],
   "source": [
    "def predict(model_encoder, model_decoder,image_tensor):\n",
    "    model_encoder.eval()\n",
    "    model_decoder.eval()\n",
    "    with torch.no_grad():\n",
    "        ht = model_encoder(image_tensor)\n",
    "        c = torch.tensor([encode_decode.get_encoding('<')]).to(device)\n",
    "        eos_index = char_to_index[\">\"]\n",
    "        caption = []\n",
    "        for i in range(100):\n",
    "            if i==0: op,ht = model_decoder(c,ht,is_prev_state_image_encoding=True)\n",
    "            else: op,ht = model_decoder(c,ht,is_prev_state_image_encoding=False)\n",
    "            predicted_char = torch.argmax(op,axis=1).tolist()\n",
    "            caption.append(predicted_char[-1])\n",
    "            c = torch.tensor([predicted_char]).to(device)\n",
    "            if predicted_char[-1] == eos_index: break\n",
    "        print(\"Encoded Caption:\",caption)\n",
    "        print(\"Decoded Caption:\",encode_decode.get_decoding(caption))"
   ]
  },
  {
   "cell_type": "code",
   "execution_count": 87,
   "metadata": {},
   "outputs": [
    {
     "name": "stdout",
     "output_type": "stream",
     "text": [
      "Encoded Caption: [26, 10, 10, 10, 10, 10, 10, 10, 10, 10, 10, 10, 10, 10, 10, 10, 10, 10, 10, 10, 10, 10, 10, 10, 10, 10, 10, 10, 10, 10, 10, 10, 10, 10, 10, 10, 10, 10, 10, 10, 10, 10, 10, 10, 10, 10, 10, 10, 10, 10, 10, 10, 10, 10, 10, 10, 10, 10, 10, 10, 10, 10, 10, 10, 10, 10, 10, 10, 10, 10, 10, 10, 10, 10, 10, 10, 10, 10, 10, 10, 10, 10, 10, 10, 10, 10, 10, 10, 10, 10, 10, 10, 10, 10, 10, 10, 10, 10, 10, 10]\n",
      "Decoded Caption: ,ooooooooooooooooooooooooooooooooooooooooooooooooooooooooooooooooooooooooooooooooooooooooooooooooooo\n"
     ]
    }
   ],
   "source": [
    "predict(model_encoder, model_decoder,a)"
   ]
  },
  {
   "cell_type": "code",
   "execution_count": 93,
   "metadata": {},
   "outputs": [
    {
     "name": "stdout",
     "output_type": "stream",
     "text": [
      "Epoch: 0 Index: 0 Loss: 0.19373144209384918\n",
      "Epoch: 0 Index: 50 Loss: 0.23210056126117706\n",
      "Epoch: 0 Index: 100 Loss: 0.16454359889030457\n",
      "Epoch: 0 Index: 150 Loss: 0.20437540113925934\n",
      "Epoch: 0 Index: 200 Loss: 0.2178594470024109\n",
      "Epoch: 0 Index: 250 Loss: 0.28090810775756836\n",
      "Epoch: 0 Index: 300 Loss: 0.20603981614112854\n",
      "Epoch: 0 Index: 350 Loss: 0.15033327043056488\n",
      "Epoch: 0 Index: 400 Loss: 0.20127016305923462\n",
      "__________________________________________\n",
      "Epoch loss........ 86.27478339523077\n",
      "Encoded Caption: [0, 1, 21, 10, 2, 0, 3, 1, 21, 4, 9, 23, 1, 16, 8, 0, 5, 5, 7, 5, 1, 4, 5, 1, 5, 7, 21, 4, 3, 16, 1, 19, 20]\n",
      "Decoded Caption: a woman with glasses is sewing .>\n",
      "__________________________________________\n",
      "Epoch: 1 Index: 0 Loss: 0.18491870164871216\n",
      "Epoch: 1 Index: 50 Loss: 0.22848452627658844\n",
      "Epoch: 1 Index: 100 Loss: 0.19159641861915588\n",
      "Epoch: 1 Index: 150 Loss: 0.2124488204717636\n",
      "Epoch: 1 Index: 200 Loss: 0.2344420999288559\n",
      "Epoch: 1 Index: 250 Loss: 0.24814727902412415\n",
      "Epoch: 1 Index: 300 Loss: 0.22880689799785614\n",
      "Epoch: 1 Index: 350 Loss: 0.1364712417125702\n",
      "Epoch: 1 Index: 400 Loss: 0.19747775793075562\n",
      "__________________________________________\n",
      "Epoch loss........ 84.16085820645094\n",
      "Encoded Caption: [0, 1, 21, 10, 2, 0, 3, 1, 21, 4, 9, 23, 1, 16, 8, 0, 5, 5, 7, 5, 1, 4, 5, 1, 5, 7, 21, 4, 3, 16, 1, 19, 20]\n",
      "Decoded Caption: a woman with glasses is sewing .>\n",
      "__________________________________________\n",
      "Epoch: 2 Index: 0 Loss: 0.18273501098155975\n",
      "Epoch: 2 Index: 50 Loss: 0.2287273108959198\n",
      "Epoch: 2 Index: 100 Loss: 0.19425126910209656\n",
      "Epoch: 2 Index: 150 Loss: 0.18686029314994812\n",
      "Epoch: 2 Index: 200 Loss: 0.20103447139263153\n",
      "Epoch: 2 Index: 250 Loss: 0.2440861165523529\n",
      "Epoch: 2 Index: 300 Loss: 0.22481270134449005\n",
      "Epoch: 2 Index: 350 Loss: 0.1668774038553238\n",
      "Epoch: 2 Index: 400 Loss: 0.19298064708709717\n",
      "__________________________________________\n",
      "Epoch loss........ 83.1408835425973\n",
      "Encoded Caption: [0, 1, 21, 10, 2, 0, 3, 1, 21, 4, 9, 23, 1, 16, 8, 0, 5, 5, 7, 5, 1, 4, 5, 1, 5, 7, 21, 4, 3, 16, 1, 19, 20]\n",
      "Decoded Caption: a woman with glasses is sewing .>\n",
      "__________________________________________\n",
      "Epoch: 3 Index: 0 Loss: 0.18086928129196167\n",
      "Epoch: 3 Index: 50 Loss: 0.2150239199399948\n",
      "Epoch: 3 Index: 100 Loss: 0.17950846254825592\n",
      "Epoch: 3 Index: 150 Loss: 0.2076963484287262\n",
      "Epoch: 3 Index: 200 Loss: 0.22205226123332977\n",
      "Epoch: 3 Index: 250 Loss: 0.2317129522562027\n",
      "Epoch: 3 Index: 300 Loss: 0.20461590588092804\n",
      "Epoch: 3 Index: 350 Loss: 0.1350414752960205\n",
      "Epoch: 3 Index: 400 Loss: 0.31248578429222107\n",
      "__________________________________________\n",
      "Epoch loss........ 80.45029236376286\n",
      "Encoded Caption: [0, 1, 21, 10, 2, 0, 3, 1, 21, 4, 9, 23, 1, 16, 8, 0, 5, 5, 7, 5, 1, 4, 5, 1, 5, 7, 21, 4, 3, 16, 1, 19, 20]\n",
      "Decoded Caption: a woman with glasses is sewing .>\n",
      "__________________________________________\n",
      "Epoch: 4 Index: 0 Loss: 0.7050693035125732\n",
      "Epoch: 4 Index: 50 Loss: 0.21149684488773346\n",
      "Epoch: 4 Index: 100 Loss: 0.17841960489749908\n",
      "Epoch: 4 Index: 150 Loss: 0.19448009133338928\n",
      "Epoch: 4 Index: 200 Loss: 0.20891185104846954\n",
      "Epoch: 4 Index: 250 Loss: 0.2340575009584427\n",
      "Epoch: 4 Index: 300 Loss: 0.21031668782234192\n",
      "Epoch: 4 Index: 350 Loss: 0.13451571762561798\n",
      "Epoch: 4 Index: 400 Loss: 0.27705007791519165\n",
      "__________________________________________\n",
      "Epoch loss........ 82.42946047335863\n",
      "Encoded Caption: [0, 1, 21, 10, 2, 0, 3, 1, 21, 4, 9, 23, 1, 16, 8, 0, 5, 5, 7, 5, 5, 7, 5, 5, 1, 4, 3, 1, 12, 7, 13, 1, 19, 20]\n",
      "Decoded Caption: a woman with glassessess in red .>\n",
      "__________________________________________\n",
      "Epoch: 5 Index: 0 Loss: 0.26291096210479736\n",
      "Epoch: 5 Index: 50 Loss: 0.2407812923192978\n",
      "Epoch: 5 Index: 100 Loss: 0.1927124261856079\n",
      "Epoch: 5 Index: 150 Loss: 0.1942547857761383\n",
      "Epoch: 5 Index: 200 Loss: 0.2284170538187027\n",
      "Epoch: 5 Index: 250 Loss: 0.24168266355991364\n",
      "Epoch: 5 Index: 300 Loss: 0.21466395258903503\n",
      "Epoch: 5 Index: 350 Loss: 0.13054998219013214\n",
      "Epoch: 5 Index: 400 Loss: 0.15709027647972107\n",
      "__________________________________________\n",
      "Epoch loss........ 81.36270654201508\n",
      "Encoded Caption: [0, 1, 21, 10, 2, 0, 3, 1, 21, 4, 9, 23, 1, 16, 8, 0, 5, 5, 7, 5, 1, 4, 5, 1, 5, 7, 21, 4, 3, 16, 1, 19, 20]\n",
      "Decoded Caption: a woman with glasses is sewing .>\n",
      "__________________________________________\n",
      "Epoch: 6 Index: 0 Loss: 0.16973841190338135\n",
      "Epoch: 6 Index: 50 Loss: 0.20086972415447235\n",
      "Epoch: 6 Index: 100 Loss: 0.14557406306266785\n",
      "Epoch: 6 Index: 150 Loss: 0.1851024627685547\n",
      "Epoch: 6 Index: 200 Loss: 0.2042943835258484\n",
      "Epoch: 6 Index: 250 Loss: 0.2298581302165985\n",
      "Epoch: 6 Index: 300 Loss: 0.19555576145648956\n",
      "Epoch: 6 Index: 350 Loss: 0.14867854118347168\n",
      "Epoch: 6 Index: 400 Loss: 0.15187954902648926\n",
      "__________________________________________\n",
      "Epoch loss........ 78.97993157804012\n",
      "Encoded Caption: [0, 1, 21, 10, 2, 0, 3, 1, 21, 4, 9, 23, 1, 16, 8, 0, 5, 5, 7, 5, 1, 4, 5, 1, 5, 7, 21, 4, 3, 16, 1, 19, 20]\n",
      "Decoded Caption: a woman with glasses is sewing .>\n",
      "__________________________________________\n",
      "Epoch: 7 Index: 0 Loss: 0.15174967050552368\n",
      "Epoch: 7 Index: 50 Loss: 0.21887879073619843\n",
      "Epoch: 7 Index: 100 Loss: 0.14991214871406555\n",
      "Epoch: 7 Index: 150 Loss: 0.16988082230091095\n",
      "Epoch: 7 Index: 200 Loss: 0.21815496683120728\n",
      "Epoch: 7 Index: 250 Loss: 0.22513967752456665\n",
      "Epoch: 7 Index: 300 Loss: 0.22225700318813324\n",
      "Epoch: 7 Index: 350 Loss: 0.1109490916132927\n",
      "Epoch: 7 Index: 400 Loss: 0.1415664255619049\n",
      "__________________________________________\n",
      "Epoch loss........ 76.57961266487837\n",
      "Encoded Caption: [0, 1, 21, 10, 2, 0, 3, 1, 21, 4, 9, 23, 1, 16, 8, 0, 5, 5, 7, 5, 1, 4, 5, 1, 5, 7, 21, 4, 3, 16, 1, 19, 20]\n",
      "Decoded Caption: a woman with glasses is sewing .>\n",
      "__________________________________________\n",
      "Epoch: 8 Index: 0 Loss: 0.1528838723897934\n",
      "Epoch: 8 Index: 50 Loss: 0.2195143848657608\n",
      "Epoch: 8 Index: 100 Loss: 0.16291366517543793\n",
      "Epoch: 8 Index: 150 Loss: 0.18381573259830475\n",
      "Epoch: 8 Index: 200 Loss: 0.25568172335624695\n",
      "Epoch: 8 Index: 250 Loss: 0.2024010270833969\n",
      "Epoch: 8 Index: 300 Loss: 0.23276454210281372\n",
      "Epoch: 8 Index: 350 Loss: 0.10835259407758713\n",
      "Epoch: 8 Index: 400 Loss: 0.14221160113811493\n",
      "__________________________________________\n",
      "Epoch loss........ 75.24841149896383\n",
      "Encoded Caption: [0, 1, 21, 10, 2, 0, 3, 1, 21, 4, 9, 23, 1, 16, 8, 0, 5, 5, 7, 5, 1, 4, 5, 1, 5, 7, 21, 4, 3, 16, 1, 19, 20]\n",
      "Decoded Caption: a woman with glasses is sewing .>\n",
      "__________________________________________\n",
      "Epoch: 9 Index: 0 Loss: 0.15378409624099731\n",
      "Epoch: 9 Index: 50 Loss: 0.21208707988262177\n",
      "Epoch: 9 Index: 100 Loss: 0.16691453754901886\n",
      "Epoch: 9 Index: 150 Loss: 0.15369053184986115\n",
      "Epoch: 9 Index: 200 Loss: 0.23160549998283386\n",
      "Epoch: 9 Index: 250 Loss: 0.20884063839912415\n",
      "Epoch: 9 Index: 300 Loss: 0.2008756846189499\n",
      "Epoch: 9 Index: 350 Loss: 0.12286973744630814\n",
      "Epoch: 9 Index: 400 Loss: 0.15734504163265228\n",
      "__________________________________________\n",
      "Epoch loss........ 74.43888448178768\n",
      "Encoded Caption: [0, 1, 21, 10, 2, 0, 3, 1, 21, 4, 9, 23, 1, 16, 8, 0, 5, 5, 7, 5, 1, 4, 5, 1, 5, 7, 21, 4, 3, 16, 1, 19, 20]\n",
      "Decoded Caption: a woman with glasses is sewing .>\n",
      "__________________________________________\n",
      "Epoch: 10 Index: 0 Loss: 0.15006858110427856\n",
      "Epoch: 10 Index: 50 Loss: 0.21949976682662964\n",
      "Epoch: 10 Index: 100 Loss: 0.15928252041339874\n",
      "Epoch: 10 Index: 150 Loss: 0.164793461561203\n",
      "Epoch: 10 Index: 200 Loss: 0.21124178171157837\n",
      "Epoch: 10 Index: 250 Loss: 0.20017042756080627\n",
      "Epoch: 10 Index: 300 Loss: 0.20045405626296997\n",
      "Epoch: 10 Index: 350 Loss: 0.10799342393875122\n",
      "Epoch: 10 Index: 400 Loss: 0.16585862636566162\n",
      "__________________________________________\n",
      "Epoch loss........ 72.99933452159166\n",
      "Encoded Caption: [0, 1, 21, 10, 2, 0, 3, 1, 21, 4, 9, 23, 1, 16, 8, 0, 5, 5, 7, 5, 1, 4, 5, 1, 5, 7, 21, 4, 3, 16, 1, 19, 20]\n",
      "Decoded Caption: a woman with glasses is sewing .>\n",
      "__________________________________________\n",
      "Epoch: 11 Index: 0 Loss: 0.1315840631723404\n",
      "Epoch: 11 Index: 50 Loss: 0.20080876350402832\n",
      "Epoch: 11 Index: 100 Loss: 0.16131137311458588\n",
      "Epoch: 11 Index: 150 Loss: 0.14728526771068573\n",
      "Epoch: 11 Index: 200 Loss: 0.25229594111442566\n",
      "Epoch: 11 Index: 250 Loss: 0.1897311955690384\n",
      "Epoch: 11 Index: 300 Loss: 0.2099778801202774\n",
      "Epoch: 11 Index: 350 Loss: 0.11971483379602432\n",
      "Epoch: 11 Index: 400 Loss: 0.17022746801376343\n",
      "__________________________________________\n",
      "Epoch loss........ 72.44192560017109\n",
      "Encoded Caption: [0, 1, 21, 10, 2, 0, 3, 1, 21, 4, 9, 23, 1, 16, 8, 0, 5, 5, 7, 5, 1, 4, 5, 1, 5, 7, 21, 4, 3, 16, 1, 19, 20]\n",
      "Decoded Caption: a woman with glasses is sewing .>\n",
      "__________________________________________\n",
      "Epoch: 12 Index: 0 Loss: 0.13134591281414032\n"
     ]
    },
    {
     "name": "stdout",
     "output_type": "stream",
     "text": [
      "Epoch: 12 Index: 50 Loss: 0.20569968223571777\n",
      "Epoch: 12 Index: 100 Loss: 0.1766815334558487\n",
      "Epoch: 12 Index: 150 Loss: 0.16049045324325562\n",
      "Epoch: 12 Index: 200 Loss: 0.23548507690429688\n",
      "Epoch: 12 Index: 250 Loss: 0.20302844047546387\n",
      "Epoch: 12 Index: 300 Loss: 0.20734690129756927\n",
      "Epoch: 12 Index: 350 Loss: 0.10929351300001144\n",
      "Epoch: 12 Index: 400 Loss: 0.16507700085639954\n",
      "__________________________________________\n",
      "Epoch loss........ 71.16506037861109\n",
      "Encoded Caption: [0, 1, 21, 10, 2, 0, 3, 1, 21, 4, 9, 23, 1, 16, 8, 0, 5, 5, 7, 5, 1, 4, 5, 1, 5, 7, 21, 4, 3, 16, 1, 19, 20]\n",
      "Decoded Caption: a woman with glasses is sewing .>\n",
      "__________________________________________\n",
      "Epoch: 13 Index: 0 Loss: 0.12974657118320465\n",
      "Epoch: 13 Index: 50 Loss: 0.2144991010427475\n",
      "Epoch: 13 Index: 100 Loss: 0.16179881989955902\n",
      "Epoch: 13 Index: 150 Loss: 0.15912975370883942\n",
      "Epoch: 13 Index: 200 Loss: 0.21094638109207153\n",
      "Epoch: 13 Index: 250 Loss: 0.19149121642112732\n",
      "Epoch: 13 Index: 300 Loss: 0.22486430406570435\n",
      "Epoch: 13 Index: 350 Loss: 0.09379293769598007\n",
      "Epoch: 13 Index: 400 Loss: 0.17469024658203125\n",
      "__________________________________________\n",
      "Epoch loss........ 70.76145758479834\n",
      "Encoded Caption: [0, 1, 21, 10, 2, 0, 3, 1, 21, 4, 9, 23, 1, 16, 8, 0, 5, 5, 7, 5, 1, 4, 5, 1, 5, 7, 21, 4, 3, 16, 1, 19, 20]\n",
      "Decoded Caption: a woman with glasses is sewing .>\n",
      "__________________________________________\n",
      "Epoch: 14 Index: 0 Loss: 0.13188858330249786\n",
      "Epoch: 14 Index: 50 Loss: 0.20123928785324097\n",
      "Epoch: 14 Index: 100 Loss: 0.16044309735298157\n",
      "Epoch: 14 Index: 150 Loss: 0.16105875372886658\n",
      "Epoch: 14 Index: 200 Loss: 0.20169219374656677\n",
      "Epoch: 14 Index: 250 Loss: 0.19835059344768524\n",
      "Epoch: 14 Index: 300 Loss: 0.2068631500005722\n",
      "Epoch: 14 Index: 350 Loss: 0.10420985519886017\n",
      "Epoch: 14 Index: 400 Loss: 0.16940546035766602\n",
      "__________________________________________\n",
      "Epoch loss........ 70.53499294817448\n",
      "Encoded Caption: [0, 1, 21, 10, 2, 0, 3, 1, 21, 4, 9, 23, 1, 16, 8, 0, 5, 5, 7, 5, 1, 4, 5, 1, 5, 7, 21, 4, 3, 16, 1, 19, 20]\n",
      "Decoded Caption: a woman with glasses is sewing .>\n",
      "__________________________________________\n",
      "Epoch: 15 Index: 0 Loss: 0.13487711548805237\n",
      "Epoch: 15 Index: 50 Loss: 0.21834444999694824\n",
      "Epoch: 15 Index: 100 Loss: 0.2013247162103653\n",
      "Epoch: 15 Index: 150 Loss: 0.15970095992088318\n",
      "Epoch: 15 Index: 200 Loss: 0.2147998809814453\n",
      "Epoch: 15 Index: 250 Loss: 0.1935710459947586\n",
      "Epoch: 15 Index: 300 Loss: 0.1931433379650116\n",
      "Epoch: 15 Index: 350 Loss: 0.10871675610542297\n",
      "Epoch: 15 Index: 400 Loss: 0.13942427933216095\n",
      "__________________________________________\n",
      "Epoch loss........ 69.43100825697184\n",
      "Encoded Caption: [0, 1, 21, 10, 2, 0, 3, 1, 21, 4, 9, 23, 1, 16, 8, 0, 5, 5, 7, 5, 1, 4, 5, 1, 5, 7, 21, 4, 3, 16, 1, 19, 20]\n",
      "Decoded Caption: a woman with glasses is sewing .>\n",
      "__________________________________________\n",
      "Epoch: 16 Index: 0 Loss: 0.13068711757659912\n",
      "Epoch: 16 Index: 50 Loss: 0.2164626270532608\n",
      "Epoch: 16 Index: 100 Loss: 0.16310420632362366\n",
      "Epoch: 16 Index: 150 Loss: 0.15406548976898193\n",
      "Epoch: 16 Index: 200 Loss: 0.19505304098129272\n",
      "Epoch: 16 Index: 250 Loss: 0.18592309951782227\n",
      "Epoch: 16 Index: 300 Loss: 0.2222646325826645\n",
      "Epoch: 16 Index: 350 Loss: 0.08542454987764359\n",
      "Epoch: 16 Index: 400 Loss: 0.16067662835121155\n",
      "__________________________________________\n",
      "Epoch loss........ 70.10554201900959\n",
      "Encoded Caption: [0, 1, 21, 10, 2, 0, 3, 1, 21, 4, 9, 23, 1, 16, 8, 0, 5, 5, 7, 5, 1, 4, 5, 1, 5, 7, 21, 4, 3, 16, 1, 19, 20]\n",
      "Decoded Caption: a woman with glasses is sewing .>\n",
      "__________________________________________\n",
      "Epoch: 17 Index: 0 Loss: 0.12416897714138031\n",
      "Epoch: 17 Index: 50 Loss: 0.19927029311656952\n",
      "Epoch: 17 Index: 100 Loss: 0.15167538821697235\n",
      "Epoch: 17 Index: 150 Loss: 0.15323364734649658\n",
      "Epoch: 17 Index: 200 Loss: 0.20742399990558624\n",
      "Epoch: 17 Index: 250 Loss: 0.18322570621967316\n",
      "Epoch: 17 Index: 300 Loss: 0.2059125304222107\n",
      "Epoch: 17 Index: 350 Loss: 0.11986539512872696\n",
      "Epoch: 17 Index: 400 Loss: 0.18703699111938477\n",
      "__________________________________________\n",
      "Epoch loss........ 70.57788008451462\n",
      "Encoded Caption: [0, 1, 21, 10, 2, 0, 3, 1, 21, 4, 9, 23, 1, 16, 8, 0, 5, 5, 7, 5, 1, 4, 5, 1, 5, 7, 21, 4, 3, 16, 1, 19, 20]\n",
      "Decoded Caption: a woman with glasses is sewing .>\n",
      "__________________________________________\n",
      "Epoch: 18 Index: 0 Loss: 0.1313788890838623\n",
      "Epoch: 18 Index: 50 Loss: 0.2137143909931183\n",
      "Epoch: 18 Index: 100 Loss: 0.13935978710651398\n",
      "Epoch: 18 Index: 150 Loss: 0.16405661404132843\n",
      "Epoch: 18 Index: 200 Loss: 0.22737213969230652\n",
      "Epoch: 18 Index: 250 Loss: 0.2172900140285492\n",
      "Epoch: 18 Index: 300 Loss: 0.2111630141735077\n",
      "Epoch: 18 Index: 350 Loss: 0.09335862100124359\n",
      "Epoch: 18 Index: 400 Loss: 0.153394415974617\n",
      "__________________________________________\n",
      "Epoch loss........ 71.45826010406017\n",
      "Encoded Caption: [0, 1, 21, 10, 2, 0, 3, 1, 21, 4, 9, 23, 1, 16, 8, 0, 5, 5, 7, 5, 1, 4, 5, 1, 5, 7, 21, 4, 3, 16, 1, 19, 20]\n",
      "Decoded Caption: a woman with glasses is sewing .>\n",
      "__________________________________________\n",
      "Epoch: 19 Index: 0 Loss: 0.14074958860874176\n",
      "Epoch: 19 Index: 50 Loss: 0.20910856127738953\n",
      "Epoch: 19 Index: 100 Loss: 0.14685708284378052\n",
      "Epoch: 19 Index: 150 Loss: 0.16460612416267395\n",
      "Epoch: 19 Index: 200 Loss: 0.22463825345039368\n",
      "Epoch: 19 Index: 250 Loss: 0.21570010483264923\n",
      "Epoch: 19 Index: 300 Loss: 0.22454731166362762\n",
      "Epoch: 19 Index: 350 Loss: 0.09844006597995758\n",
      "Epoch: 19 Index: 400 Loss: 0.16350090503692627\n",
      "__________________________________________\n",
      "Epoch loss........ 70.18409365415573\n",
      "Encoded Caption: [0, 1, 21, 10, 2, 0, 3, 1, 21, 4, 9, 23, 1, 16, 8, 0, 5, 5, 7, 5, 1, 4, 5, 1, 5, 7, 21, 4, 3, 16, 1, 19, 20]\n",
      "Decoded Caption: a woman with glasses is sewing .>\n",
      "__________________________________________\n"
     ]
    }
   ],
   "source": [
    "for epoch in range(epochs):\n",
    "    epoch_loss = 0\n",
    "    model_encoder.train()\n",
    "    model_decoder.train()\n",
    "    for index,tr_image in enumerate(tr_images):\n",
    "        optimizer_encoder.zero_grad()\n",
    "        optimizer_decoder.zero_grad()\n",
    "        caption_index = 1#random.randint(0,4)\n",
    "        ip_caption = Xtr_c[index][caption_index]\n",
    "        op_caption = Ytr_c[index][caption_index]\n",
    "        ip_c = torch.tensor([encode_decode.get_encoding(ip_caption)]).to(device)\n",
    "        op_c = torch.tensor([encode_decode.get_encoding(op_caption)]).to(device)\n",
    "        image = model_encoder(tr_image.to(device))\n",
    "#         image = torch.randn(1,1,512).to(device)\n",
    "        op,ht = model_decoder(ip_c,image,is_prev_state_image_encoding=True)\n",
    "        loss = loss_fn(op,op_c.reshape(-1))\n",
    "        epoch_loss += loss.item()\n",
    "        loss.backward()\n",
    "        optimizer_encoder.step()\n",
    "        optimizer_decoder.step()\n",
    "        if index % 50 == 0: print(\"Epoch:\",epoch,\"Index:\",index,\"Loss:\",loss.item())\n",
    "    print(\"__________________________________________\")\n",
    "    print(\"Epoch loss........\",epoch_loss)\n",
    "    predict(model_encoder,model_decoder,a)\n",
    "    print(\"__________________________________________\")"
   ]
  },
  {
   "cell_type": "markdown",
   "metadata": {},
   "source": [
    "### On Validation Data"
   ]
  },
  {
   "cell_type": "code",
   "execution_count": null,
   "metadata": {},
   "outputs": [],
   "source": [
    "i = 24\n",
    "img_name = Xval_i[i]\n",
    "print(Xval_c[i],Yval_c[i])\n",
    "im = plt.imread(image_folder+\"/\"+img_name)\n",
    "resized_img = cv2.resize(im,(200,200),interpolation=cv2.INTER_AREA)\n",
    "resized_img = torch.tensor([resized_img],dtype=torch.float)\n",
    "resized_img = resized_img.permute(0,3,1,2)\n",
    "resized_img = resized_img.to(device)\n",
    "plt.imshow(resized_img[-1].permute(1,2,0).cpu().numpy().astype('int32'))"
   ]
  },
  {
   "cell_type": "code",
   "execution_count": null,
   "metadata": {},
   "outputs": [],
   "source": [
    "predict(model_encoder, model_decoder,resized_img)"
   ]
  },
  {
   "cell_type": "code",
   "execution_count": null,
   "metadata": {},
   "outputs": [],
   "source": []
  },
  {
   "cell_type": "code",
   "execution_count": null,
   "metadata": {},
   "outputs": [],
   "source": []
  }
 ],
 "metadata": {
  "kernelspec": {
   "display_name": "Python 3.8.2 64-bit",
   "language": "python",
   "name": "python38264bitf0b0a3d2859f4904a6dd3c0263fd37ec"
  },
  "language_info": {
   "codemirror_mode": {
    "name": "ipython",
    "version": 3
   },
   "file_extension": ".py",
   "mimetype": "text/x-python",
   "name": "python",
   "nbconvert_exporter": "python",
   "pygments_lexer": "ipython3",
   "version": "3.8.2"
  }
 },
 "nbformat": 4,
 "nbformat_minor": 4
}
