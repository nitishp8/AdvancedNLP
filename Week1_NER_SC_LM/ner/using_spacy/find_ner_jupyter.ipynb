{
 "cells": [
  {
   "cell_type": "code",
   "execution_count": 1,
   "metadata": {},
   "outputs": [],
   "source": [
    "import argparse\n",
    "import spacy\n",
    "import random\n",
    "import warnings\n",
    "from spacy.util import minibatch, compounding"
   ]
  },
  {
   "cell_type": "code",
   "execution_count": 3,
   "metadata": {},
   "outputs": [],
   "source": [
    "tr_file = \"rent_training.txt\"\n",
    "et_file = \"rent_entities.txt\""
   ]
  },
  {
   "cell_type": "code",
   "execution_count": 2,
   "metadata": {},
   "outputs": [],
   "source": [
    "def get_training_data(training_file,entity_file):\n",
    "    f1 = open(training_file,\"r\",errors=\"ignore\")\n",
    "    f2 = open(entity_file,\"r\",errors=\"ignore\")\n",
    "    train_data = []\n",
    "    for line1, line2 in zip(f1,f2):\n",
    "        line1 = line1.strip()#.lower()\n",
    "        line2 = line2.strip().split(\",\")\n",
    "        ent_tuple = (int(line2[0]),int(line2[1]),line2[2])\n",
    "        train_data.append(\n",
    "            (line1,{\"entities\":[ent_tuple]})\n",
    "        )\n",
    "    return train_data"
   ]
  },
  {
   "cell_type": "code",
   "execution_count": 4,
   "metadata": {},
   "outputs": [],
   "source": [
    "data = get_training_data(tr_file,et_file)"
   ]
  },
  {
   "cell_type": "code",
   "execution_count": 5,
   "metadata": {},
   "outputs": [
    {
     "data": {
      "text/plain": [
       "[('Rs 15000.00 per month (Rupees Twelve Thousand only) towards Rent.',\n",
       "  {'entities': [(0, 11, 'RENT')]}),\n",
       " ('The agreed rent of Rs.2500/- has to be paid on or before 5th of every month.',\n",
       "  {'entities': [(19, 28, 'RENT')]}),\n",
       " ('The Lessee shall pay the Lessor a monthly rent of Rs.11500/- (Eleven Thousand Five Hundred Only) regularly and punctually without any delay or default on or before 5th day of every month in the English Calendar and the receipt of the same to be obtained.',\n",
       "  {'entities': [(50, 60, 'RENT')]}),\n",
       " ('MONTHLY RENT: The TENANT has agreed to pay a RENT of Rs. 9000/- (Rupees Nine Thousand only) per month to be paid on or before 5th day of the succeeding English calendar month.',\n",
       "  {'entities': [(8, 63, 'RENT')]}),\n",
       " ('The Tenant agrees to pay a monthly rent of Rs. 4200/- (Rupees Four Thousand',\n",
       "  {'entities': [(43, 53, 'RENT')]}),\n",
       " ('The rentals will be charged @ Rs.1200/- per unit per month payable monthly in advance.',\n",
       "  {'entities': [(30, 39, 'RENT')]}),\n",
       " ('The lessor hereby let on lease the house to the lessee on a monthly rent of Rs 9000/- (Rupees Seven thousand only) for a period of 11 months starting from 1st of April 2010. The amount shall be paid before 5th of the succeeding calendar month without any deduction whatsoever.',\n",
       "  {'entities': [(76, 85, 'RENT')]}),\n",
       " ('The monthly rent shall be RM600-00 (Ringgit Malaysia Six Hundreds Only) Per Month and payable by the SECOND PARTY during the course of FIRST WEEK of every month.',\n",
       "  {'entities': [(36, 34, 'RENT')]})]"
      ]
     },
     "execution_count": 5,
     "metadata": {},
     "output_type": "execute_result"
    }
   ],
   "source": [
    "data"
   ]
  },
  {
   "cell_type": "code",
   "execution_count": 6,
   "metadata": {},
   "outputs": [
    {
     "name": "stdout",
     "output_type": "stream",
     "text": [
      "[]\n",
      "['ner']\n"
     ]
    }
   ],
   "source": [
    "nlp = spacy.blank(\"en\")\n",
    "print(nlp.pipe_names)\n",
    "if \"ner\" not in nlp.pipe_names:\n",
    "    ner = nlp.create_pipe(\"ner\")\n",
    "    nlp.add_pipe(ner, last=True)\n",
    "print(nlp.pipe_names)"
   ]
  },
  {
   "cell_type": "code",
   "execution_count": 8,
   "metadata": {},
   "outputs": [
    {
     "name": "stdout",
     "output_type": "stream",
     "text": [
      "{'entities': [(0, 11, 'RENT')]}\n",
      "{'entities': [(19, 28, 'RENT')]}\n",
      "{'entities': [(50, 60, 'RENT')]}\n",
      "{'entities': [(8, 63, 'RENT')]}\n",
      "{'entities': [(43, 53, 'RENT')]}\n",
      "{'entities': [(30, 39, 'RENT')]}\n",
      "{'entities': [(76, 85, 'RENT')]}\n",
      "{'entities': [(36, 34, 'RENT')]}\n"
     ]
    }
   ],
   "source": [
    "for _, annotations in data: print(annotations)"
   ]
  },
  {
   "cell_type": "code",
   "execution_count": null,
   "metadata": {},
   "outputs": [],
   "source": [
    "def train_ner(training_file,entity_file):\n",
    "    TRAIN_DATA = get_training_data(training_file,entity_file)\n",
    "\n",
    "    nlp = spacy.blank(\"en\")\n",
    "    if \"ner\" not in nlp.pipe_names:\n",
    "        ner = nlp.create_pipe(\"ner\")\n",
    "        nlp.add_pipe(ner, last=True)\n",
    "\n",
    "    # add labels\n",
    "    for _, annotations in TRAIN_DATA:\n",
    "        for ent in annotations.get(\"entities\"):\n",
    "            ner.add_label(ent[2])\n",
    "\n",
    "    # get names of other pipes to disable them during training\n",
    "    pipe_exceptions = [\"ner\", \"trf_wordpiecer\", \"trf_tok2vec\"]\n",
    "    other_pipes = [pipe for pipe in nlp.pipe_names if pipe not in pipe_exceptions]\n",
    "    # only train NER\n",
    "    with nlp.disable_pipes(*other_pipes) and warnings.catch_warnings():\n",
    "        # show warnings for misaligned entity spans once\n",
    "        warnings.filterwarnings(\"once\", category=UserWarning, module='spacy')\n",
    "\n",
    "        # reset and initialize the weights randomly – but only if we're\n",
    "        # training a new model\n",
    "        nlp.begin_training()\n",
    "        for itn in range(501):\n",
    "            random.shuffle(TRAIN_DATA)\n",
    "            losses = {}\n",
    "            # batch up the examples using spaCy's minibatch\n",
    "            batches = minibatch(TRAIN_DATA, size=compounding(4.0, 32.0, 1.001))\n",
    "            for batch in batches:\n",
    "                texts, annotations = zip(*batch)\n",
    "                nlp.update(\n",
    "                    texts,  # batch of texts\n",
    "                    annotations,  # batch of annotations\n",
    "                    drop=0.5,  # dropout - make it harder to memorise data\n",
    "                    losses=losses,\n",
    "                )\n",
    "            if itn%100 == 0: print(\"Losses\", losses)\n",
    "\n",
    "    # test the trained model\n",
    "    for text, _ in TRAIN_DATA:\n",
    "        doc = nlp(text)\n",
    "        print(\"Entities\", [(ent.text, ent.label_) for ent in doc.ents])\n",
    "        # print(\"Tokens\", [(t.text, t.ent_type_, t.ent_iob) for t in doc])\n",
    "    nlp.to_disk(\"model_\"+training_file.split(\".\")[0].split(\"_\")[0])"
   ]
  }
 ],
 "metadata": {
  "kernelspec": {
   "display_name": "Python 3",
   "language": "python",
   "name": "python3"
  },
  "language_info": {
   "codemirror_mode": {
    "name": "ipython",
    "version": 3
   },
   "file_extension": ".py",
   "mimetype": "text/x-python",
   "name": "python",
   "nbconvert_exporter": "python",
   "pygments_lexer": "ipython3",
   "version": "3.8.2"
  }
 },
 "nbformat": 4,
 "nbformat_minor": 4
}
